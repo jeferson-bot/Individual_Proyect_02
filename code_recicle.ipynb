{
 "cells": [
  {
   "cell_type": "code",
   "execution_count": null,
   "metadata": {},
   "outputs": [],
   "source": [
    "# # Obtén los nombres de las provincias\n",
    "# provincias = df['Provincia'].unique()\n",
    "\n",
    "# # Crea los subtramas\n",
    "# n_rows = len(provincias) // 4 + (len(provincias) % 4 > 0)\n",
    "# n_cols = 4\n",
    "# fig, axes = plt.subplots(nrows=n_rows, ncols=n_cols, figsize=(15, 15))\n",
    "\n",
    "# # Aplana los ejes para un acceso más fácil\n",
    "# axes = axes.flatten()\n",
    "\n",
    "# # Itera sobre las provincias\n",
    "# for i, provincia in enumerate(provincias):\n",
    "#    # Filtra los datos para la provincia actual\n",
    "#    df_provincia = df[df['Provincia'] == provincia]\n",
    "\n",
    "#    # Agrupa los datos por año y calcula los accesos promedio\n",
    "#    df_provincia_grouped = df_provincia.groupby('Año')['Accesos por cada 100 hogares'].mean()\n",
    "\n",
    "#    # Crea el gráfico de líneas en el subtrama correspondiente\n",
    "#    axes[i].plot(df_provincia_grouped.index, df_provincia_grouped.values, marker='o', color=color_pastel[i % len(color_pastel)])\n",
    "#    axes[i].set_xlabel('Año')\n",
    "#    axes[i].set_ylabel('Accesos por cada 100 hogares')\n",
    "#    axes[i].set_title(f'Tendencia de Accesos en {provincia}')\n",
    "\n",
    "# # Ajusta el espaciado entre los subtramas\n",
    "# plt.tight_layout()\n",
    "\n",
    "# # Muestra el gráfico\n",
    "# plt.show()"
   ]
  },
  {
   "cell_type": "code",
   "execution_count": null,
   "metadata": {},
   "outputs": [],
   "source": [
    "# # Calculate the number of rows and columns needed for the subplots\n",
    "# n_provinces = len('Provincia')\n",
    "# n_rows = n_provinces // 4 + (n_provinces % 4 > 0)\n",
    "# n_cols = 4\n",
    "\n",
    "# color_pastel = [ '#f4cccc', '#fce5cd', '#fff2cc', '#d9ead3', '#d0e0e3', '#cfe2f3',\n",
    "#                  '#d9d2e9', '#ead1dc', '#ea9999', '#f9cb9c', '#ffe599', '#b6d7a8']\n",
    "# # Create the subplots\n",
    "# fig, axes = plt.subplots(nrows=n_rows, ncols=n_cols, figsize=(15, 15))\n",
    "\n",
    "# # Flatten the axes array for easier access\n",
    "# axes = axes.flatten()\n",
    "\n",
    "# # Iterate over the provinces\n",
    "# for i, provincia in enumerate('Provincia'):\n",
    "#    # Filter the data for the current province\n",
    "#    df_provincia = df[df['Provincia'] == provincia]\n",
    "\n",
    "#    # Group the data by year and calculate the average accesses\n",
    "#    df_provincia_grouped = df_provincia.groupby('Año')['Accesos por cada 100 hogares'].mean()\n",
    "\n",
    "#    # Create the line plot in the corresponding subplot\n",
    "#    axes[i].plot(df_provincia_grouped.index, df_provincia_grouped.values, marker='o', color=color_pastel[i % len(color_pastel)])\n",
    "#    axes[i].set_xlabel('Año')\n",
    "#    axes[i].set_ylabel('Accesos por cada 100 hogares')\n",
    "#    axes[i].set_title(f'Tendencia de Accesos en {provincia}')\n",
    "#    #axes[i].set_facecolor('darkgray')\n",
    "\n",
    "#       # Adjust the spacing between subplots\n",
    "#    plt.tight_layout()\n",
    "#    # Show the plot\n",
    "#    plt.show()\n"
   ]
  },
  {
   "cell_type": "markdown",
   "metadata": {},
   "source": [
    "'Suma de accesos por banda ancha fija en el año 2022 por provincia'"
   ]
  },
  {
   "cell_type": "code",
   "execution_count": null,
   "metadata": {},
   "outputs": [],
   "source": [
    "df_2022 = df_baf[df_baf['Año'] == 2022]\n",
    "\n",
    "# Suma los accesos por banda ancha fija para cada provincia\n",
    "sum_data = df_2022.groupby('Provincia')['Dial up'].sum()\n",
    "\n",
    "# Crea el gráfico de barras\n",
    "plt.figure(figsize=(10, 6)) # Define el tamaño del gráfico\n",
    "plt.bar(sum_data.index, sum_data.values) # Crea las barras\n",
    "plt.xlabel('Provincia') # Etiqueta del eje x\n",
    "plt.ylabel('Suma de accesos por banda ancha fija') # Etiqueta del eje y\n",
    "plt.title('Suma de accesos por banda ancha fija en el año 2022 por provincia') # Título del gráfico\n",
    "\n",
    "plt.xticks(rotation=90)\n",
    "plt.show() # Muestra el gráfico\n"
   ]
  }
 ],
 "metadata": {
  "language_info": {
   "name": "python"
  }
 },
 "nbformat": 4,
 "nbformat_minor": 2
}
